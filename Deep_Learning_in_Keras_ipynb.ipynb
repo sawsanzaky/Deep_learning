{
  "nbformat": 4,
  "nbformat_minor": 0,
  "metadata": {
    "colab": {
      "name": "Deep Learning in Keras.ipynb.ipynb",
      "provenance": [],
      "authorship_tag": "ABX9TyMTBUVOuQV7sVX+3g9FaXws",
      "include_colab_link": true
    },
    "kernelspec": {
      "name": "python3",
      "display_name": "Python 3"
    },
    "language_info": {
      "name": "python"
    }
  },
  "cells": [
    {
      "cell_type": "markdown",
      "metadata": {
        "id": "view-in-github",
        "colab_type": "text"
      },
      "source": [
        "<a href=\"https://colab.research.google.com/github/sawsanzaky/Deep_learning/blob/main/Deep_Learning_in_Keras_ipynb.ipynb\" target=\"_parent\"><img src=\"https://colab.research.google.com/assets/colab-badge.svg\" alt=\"Open In Colab\"/></a>"
      ]
    },
    {
      "cell_type": "markdown",
      "metadata": {
        "id": "SZ2FnYP2RfdW"
      },
      "source": [
        "**Deep Learning in Keras - Building a Deep Learning Model**"
      ]
    },
    {
      "cell_type": "markdown",
      "metadata": {
        "id": "_xEQYMG-abxN"
      },
      "source": [
        "import library "
      ]
    },
    {
      "cell_type": "code",
      "metadata": {
        "id": "nfUjhs-jQFLF"
      },
      "source": [
        "import matplotlib.pyplot as plt\n",
        "from matplotlib import ticker\n",
        "import numpy as np\n",
        "import pandas as pd\n",
        "import seaborn as sns\n",
        "from sklearn.model_selection import train_test_split\n",
        "\n",
        "import tensorflow as tf\n",
        "from tensorflow import keras\n",
        "from tensorflow.keras import layers"
      ],
      "execution_count": 36,
      "outputs": []
    },
    {
      "cell_type": "markdown",
      "metadata": {
        "id": "xeUKcYNiBp6X"
      },
      "source": [
        "**Load Dataset**"
      ]
    },
    {
      "cell_type": "code",
      "metadata": {
        "colab": {
          "base_uri": "https://localhost:8080/",
          "height": 204
        },
        "id": "QSwOyTX1RjdS",
        "outputId": "c2cdc026-a1c6-4dc7-b62b-ae4c8920a6d7"
      },
      "source": [
        "data= sns.load_dataset(\"iris\")\n",
        "data.head()"
      ],
      "execution_count": 20,
      "outputs": [
        {
          "output_type": "execute_result",
          "data": {
            "text/html": [
              "<div>\n",
              "<style scoped>\n",
              "    .dataframe tbody tr th:only-of-type {\n",
              "        vertical-align: middle;\n",
              "    }\n",
              "\n",
              "    .dataframe tbody tr th {\n",
              "        vertical-align: top;\n",
              "    }\n",
              "\n",
              "    .dataframe thead th {\n",
              "        text-align: right;\n",
              "    }\n",
              "</style>\n",
              "<table border=\"1\" class=\"dataframe\">\n",
              "  <thead>\n",
              "    <tr style=\"text-align: right;\">\n",
              "      <th></th>\n",
              "      <th>sepal_length</th>\n",
              "      <th>sepal_width</th>\n",
              "      <th>petal_length</th>\n",
              "      <th>petal_width</th>\n",
              "      <th>species</th>\n",
              "    </tr>\n",
              "  </thead>\n",
              "  <tbody>\n",
              "    <tr>\n",
              "      <th>0</th>\n",
              "      <td>5.1</td>\n",
              "      <td>3.5</td>\n",
              "      <td>1.4</td>\n",
              "      <td>0.2</td>\n",
              "      <td>setosa</td>\n",
              "    </tr>\n",
              "    <tr>\n",
              "      <th>1</th>\n",
              "      <td>4.9</td>\n",
              "      <td>3.0</td>\n",
              "      <td>1.4</td>\n",
              "      <td>0.2</td>\n",
              "      <td>setosa</td>\n",
              "    </tr>\n",
              "    <tr>\n",
              "      <th>2</th>\n",
              "      <td>4.7</td>\n",
              "      <td>3.2</td>\n",
              "      <td>1.3</td>\n",
              "      <td>0.2</td>\n",
              "      <td>setosa</td>\n",
              "    </tr>\n",
              "    <tr>\n",
              "      <th>3</th>\n",
              "      <td>4.6</td>\n",
              "      <td>3.1</td>\n",
              "      <td>1.5</td>\n",
              "      <td>0.2</td>\n",
              "      <td>setosa</td>\n",
              "    </tr>\n",
              "    <tr>\n",
              "      <th>4</th>\n",
              "      <td>5.0</td>\n",
              "      <td>3.6</td>\n",
              "      <td>1.4</td>\n",
              "      <td>0.2</td>\n",
              "      <td>setosa</td>\n",
              "    </tr>\n",
              "  </tbody>\n",
              "</table>\n",
              "</div>"
            ],
            "text/plain": [
              "   sepal_length  sepal_width  petal_length  petal_width species\n",
              "0           5.1          3.5           1.4          0.2  setosa\n",
              "1           4.9          3.0           1.4          0.2  setosa\n",
              "2           4.7          3.2           1.3          0.2  setosa\n",
              "3           4.6          3.1           1.5          0.2  setosa\n",
              "4           5.0          3.6           1.4          0.2  setosa"
            ]
          },
          "metadata": {},
          "execution_count": 20
        }
      ]
    },
    {
      "cell_type": "markdown",
      "metadata": {
        "id": "7iLXM3fiMAFs"
      },
      "source": [
        "Data Analysis "
      ]
    },
    {
      "cell_type": "code",
      "metadata": {
        "colab": {
          "base_uri": "https://localhost:8080/"
        },
        "id": "gRhGutChL8LW",
        "outputId": "cb39d43d-47bc-4951-c990-fe5d29b01222"
      },
      "source": [
        "data.info()"
      ],
      "execution_count": 24,
      "outputs": [
        {
          "output_type": "stream",
          "name": "stdout",
          "text": [
            "<class 'pandas.core.frame.DataFrame'>\n",
            "RangeIndex: 150 entries, 0 to 149\n",
            "Data columns (total 5 columns):\n",
            " #   Column        Non-Null Count  Dtype  \n",
            "---  ------        --------------  -----  \n",
            " 0   sepal_length  150 non-null    float64\n",
            " 1   sepal_width   150 non-null    float64\n",
            " 2   petal_length  150 non-null    float64\n",
            " 3   petal_width   150 non-null    float64\n",
            " 4   species       150 non-null    object \n",
            "dtypes: float64(4), object(1)\n",
            "memory usage: 6.0+ KB\n"
          ]
        }
      ]
    },
    {
      "cell_type": "code",
      "metadata": {
        "colab": {
          "base_uri": "https://localhost:8080/",
          "height": 297
        },
        "id": "ZRGynk-SMILk",
        "outputId": "9bbab3bd-803d-44b9-9d68-79a2c4016afb"
      },
      "source": [
        "data.describe()"
      ],
      "execution_count": 25,
      "outputs": [
        {
          "output_type": "execute_result",
          "data": {
            "text/html": [
              "<div>\n",
              "<style scoped>\n",
              "    .dataframe tbody tr th:only-of-type {\n",
              "        vertical-align: middle;\n",
              "    }\n",
              "\n",
              "    .dataframe tbody tr th {\n",
              "        vertical-align: top;\n",
              "    }\n",
              "\n",
              "    .dataframe thead th {\n",
              "        text-align: right;\n",
              "    }\n",
              "</style>\n",
              "<table border=\"1\" class=\"dataframe\">\n",
              "  <thead>\n",
              "    <tr style=\"text-align: right;\">\n",
              "      <th></th>\n",
              "      <th>sepal_length</th>\n",
              "      <th>sepal_width</th>\n",
              "      <th>petal_length</th>\n",
              "      <th>petal_width</th>\n",
              "    </tr>\n",
              "  </thead>\n",
              "  <tbody>\n",
              "    <tr>\n",
              "      <th>count</th>\n",
              "      <td>150.000000</td>\n",
              "      <td>150.000000</td>\n",
              "      <td>150.000000</td>\n",
              "      <td>150.000000</td>\n",
              "    </tr>\n",
              "    <tr>\n",
              "      <th>mean</th>\n",
              "      <td>5.843333</td>\n",
              "      <td>3.057333</td>\n",
              "      <td>3.758000</td>\n",
              "      <td>1.199333</td>\n",
              "    </tr>\n",
              "    <tr>\n",
              "      <th>std</th>\n",
              "      <td>0.828066</td>\n",
              "      <td>0.435866</td>\n",
              "      <td>1.765298</td>\n",
              "      <td>0.762238</td>\n",
              "    </tr>\n",
              "    <tr>\n",
              "      <th>min</th>\n",
              "      <td>4.300000</td>\n",
              "      <td>2.000000</td>\n",
              "      <td>1.000000</td>\n",
              "      <td>0.100000</td>\n",
              "    </tr>\n",
              "    <tr>\n",
              "      <th>25%</th>\n",
              "      <td>5.100000</td>\n",
              "      <td>2.800000</td>\n",
              "      <td>1.600000</td>\n",
              "      <td>0.300000</td>\n",
              "    </tr>\n",
              "    <tr>\n",
              "      <th>50%</th>\n",
              "      <td>5.800000</td>\n",
              "      <td>3.000000</td>\n",
              "      <td>4.350000</td>\n",
              "      <td>1.300000</td>\n",
              "    </tr>\n",
              "    <tr>\n",
              "      <th>75%</th>\n",
              "      <td>6.400000</td>\n",
              "      <td>3.300000</td>\n",
              "      <td>5.100000</td>\n",
              "      <td>1.800000</td>\n",
              "    </tr>\n",
              "    <tr>\n",
              "      <th>max</th>\n",
              "      <td>7.900000</td>\n",
              "      <td>4.400000</td>\n",
              "      <td>6.900000</td>\n",
              "      <td>2.500000</td>\n",
              "    </tr>\n",
              "  </tbody>\n",
              "</table>\n",
              "</div>"
            ],
            "text/plain": [
              "       sepal_length  sepal_width  petal_length  petal_width\n",
              "count    150.000000   150.000000    150.000000   150.000000\n",
              "mean       5.843333     3.057333      3.758000     1.199333\n",
              "std        0.828066     0.435866      1.765298     0.762238\n",
              "min        4.300000     2.000000      1.000000     0.100000\n",
              "25%        5.100000     2.800000      1.600000     0.300000\n",
              "50%        5.800000     3.000000      4.350000     1.300000\n",
              "75%        6.400000     3.300000      5.100000     1.800000\n",
              "max        7.900000     4.400000      6.900000     2.500000"
            ]
          },
          "metadata": {},
          "execution_count": 25
        }
      ]
    },
    {
      "cell_type": "code",
      "metadata": {
        "colab": {
          "base_uri": "https://localhost:8080/"
        },
        "id": "ktoZ6D-YB3oE",
        "outputId": "e4399a75-23d0-4cb1-e2d9-f259cc4674c4"
      },
      "source": [
        "data.isnull().sum()"
      ],
      "execution_count": 21,
      "outputs": [
        {
          "output_type": "execute_result",
          "data": {
            "text/plain": [
              "sepal_length    0\n",
              "sepal_width     0\n",
              "petal_length    0\n",
              "petal_width     0\n",
              "species         0\n",
              "dtype: int64"
            ]
          },
          "metadata": {},
          "execution_count": 21
        }
      ]
    },
    {
      "cell_type": "code",
      "metadata": {
        "colab": {
          "base_uri": "https://localhost:8080/"
        },
        "id": "EO0NAg5wEZGH",
        "outputId": "6c6189de-6c06-43c2-8621-c0ffe1c0f1a4"
      },
      "source": [
        "data.species.value_counts()"
      ],
      "execution_count": 23,
      "outputs": [
        {
          "output_type": "execute_result",
          "data": {
            "text/plain": [
              "setosa        50\n",
              "virginica     50\n",
              "versicolor    50\n",
              "Name: species, dtype: int64"
            ]
          },
          "metadata": {},
          "execution_count": 23
        }
      ]
    },
    {
      "cell_type": "code",
      "metadata": {
        "id": "uRkjQY4NEuH3"
      },
      "source": [
        "feature = data.iloc[:,0:-1]\n",
        "label = data.iloc[:,-1]\n"
      ],
      "execution_count": 28,
      "outputs": []
    },
    {
      "cell_type": "code",
      "metadata": {
        "colab": {
          "base_uri": "https://localhost:8080/",
          "height": 419
        },
        "id": "vRtMhWFrFKAd",
        "outputId": "d98c2788-d645-4786-a2f4-54a1fa53707d"
      },
      "source": [
        "#convert Label into numerical \n",
        "from sklearn import preprocessing\n",
        "le = preprocessing.LabelEncoder()\n",
        "y = data.select_dtypes(include=[object])\n",
        "y = y.apply(le.fit_transform)\n",
        "y"
      ],
      "execution_count": 34,
      "outputs": [
        {
          "output_type": "execute_result",
          "data": {
            "text/html": [
              "<div>\n",
              "<style scoped>\n",
              "    .dataframe tbody tr th:only-of-type {\n",
              "        vertical-align: middle;\n",
              "    }\n",
              "\n",
              "    .dataframe tbody tr th {\n",
              "        vertical-align: top;\n",
              "    }\n",
              "\n",
              "    .dataframe thead th {\n",
              "        text-align: right;\n",
              "    }\n",
              "</style>\n",
              "<table border=\"1\" class=\"dataframe\">\n",
              "  <thead>\n",
              "    <tr style=\"text-align: right;\">\n",
              "      <th></th>\n",
              "      <th>species</th>\n",
              "    </tr>\n",
              "  </thead>\n",
              "  <tbody>\n",
              "    <tr>\n",
              "      <th>0</th>\n",
              "      <td>0</td>\n",
              "    </tr>\n",
              "    <tr>\n",
              "      <th>1</th>\n",
              "      <td>0</td>\n",
              "    </tr>\n",
              "    <tr>\n",
              "      <th>2</th>\n",
              "      <td>0</td>\n",
              "    </tr>\n",
              "    <tr>\n",
              "      <th>3</th>\n",
              "      <td>0</td>\n",
              "    </tr>\n",
              "    <tr>\n",
              "      <th>4</th>\n",
              "      <td>0</td>\n",
              "    </tr>\n",
              "    <tr>\n",
              "      <th>...</th>\n",
              "      <td>...</td>\n",
              "    </tr>\n",
              "    <tr>\n",
              "      <th>145</th>\n",
              "      <td>2</td>\n",
              "    </tr>\n",
              "    <tr>\n",
              "      <th>146</th>\n",
              "      <td>2</td>\n",
              "    </tr>\n",
              "    <tr>\n",
              "      <th>147</th>\n",
              "      <td>2</td>\n",
              "    </tr>\n",
              "    <tr>\n",
              "      <th>148</th>\n",
              "      <td>2</td>\n",
              "    </tr>\n",
              "    <tr>\n",
              "      <th>149</th>\n",
              "      <td>2</td>\n",
              "    </tr>\n",
              "  </tbody>\n",
              "</table>\n",
              "<p>150 rows × 1 columns</p>\n",
              "</div>"
            ],
            "text/plain": [
              "     species\n",
              "0          0\n",
              "1          0\n",
              "2          0\n",
              "3          0\n",
              "4          0\n",
              "..       ...\n",
              "145        2\n",
              "146        2\n",
              "147        2\n",
              "148        2\n",
              "149        2\n",
              "\n",
              "[150 rows x 1 columns]"
            ]
          },
          "metadata": {},
          "execution_count": 34
        }
      ]
    },
    {
      "cell_type": "markdown",
      "metadata": {
        "id": "aU62DIM2QJll"
      },
      "source": [
        "**Train and Split**"
      ]
    },
    {
      "cell_type": "code",
      "metadata": {
        "colab": {
          "base_uri": "https://localhost:8080/",
          "height": 419
        },
        "id": "1k6u66AaM-CJ",
        "outputId": "d9473100-42fd-4401-a79c-f6ab5bcc96fc"
      },
      "source": [
        "X_train, X_test, y_train, y_test = train_test_split(feature, y, test_size = 0.20)\n",
        "X_train"
      ],
      "execution_count": 38,
      "outputs": [
        {
          "output_type": "execute_result",
          "data": {
            "text/html": [
              "<div>\n",
              "<style scoped>\n",
              "    .dataframe tbody tr th:only-of-type {\n",
              "        vertical-align: middle;\n",
              "    }\n",
              "\n",
              "    .dataframe tbody tr th {\n",
              "        vertical-align: top;\n",
              "    }\n",
              "\n",
              "    .dataframe thead th {\n",
              "        text-align: right;\n",
              "    }\n",
              "</style>\n",
              "<table border=\"1\" class=\"dataframe\">\n",
              "  <thead>\n",
              "    <tr style=\"text-align: right;\">\n",
              "      <th></th>\n",
              "      <th>sepal_length</th>\n",
              "      <th>sepal_width</th>\n",
              "      <th>petal_length</th>\n",
              "      <th>petal_width</th>\n",
              "    </tr>\n",
              "  </thead>\n",
              "  <tbody>\n",
              "    <tr>\n",
              "      <th>74</th>\n",
              "      <td>6.4</td>\n",
              "      <td>2.9</td>\n",
              "      <td>4.3</td>\n",
              "      <td>1.3</td>\n",
              "    </tr>\n",
              "    <tr>\n",
              "      <th>86</th>\n",
              "      <td>6.7</td>\n",
              "      <td>3.1</td>\n",
              "      <td>4.7</td>\n",
              "      <td>1.5</td>\n",
              "    </tr>\n",
              "    <tr>\n",
              "      <th>0</th>\n",
              "      <td>5.1</td>\n",
              "      <td>3.5</td>\n",
              "      <td>1.4</td>\n",
              "      <td>0.2</td>\n",
              "    </tr>\n",
              "    <tr>\n",
              "      <th>116</th>\n",
              "      <td>6.5</td>\n",
              "      <td>3.0</td>\n",
              "      <td>5.5</td>\n",
              "      <td>1.8</td>\n",
              "    </tr>\n",
              "    <tr>\n",
              "      <th>121</th>\n",
              "      <td>5.6</td>\n",
              "      <td>2.8</td>\n",
              "      <td>4.9</td>\n",
              "      <td>2.0</td>\n",
              "    </tr>\n",
              "    <tr>\n",
              "      <th>...</th>\n",
              "      <td>...</td>\n",
              "      <td>...</td>\n",
              "      <td>...</td>\n",
              "      <td>...</td>\n",
              "    </tr>\n",
              "    <tr>\n",
              "      <th>135</th>\n",
              "      <td>7.7</td>\n",
              "      <td>3.0</td>\n",
              "      <td>6.1</td>\n",
              "      <td>2.3</td>\n",
              "    </tr>\n",
              "    <tr>\n",
              "      <th>105</th>\n",
              "      <td>7.6</td>\n",
              "      <td>3.0</td>\n",
              "      <td>6.6</td>\n",
              "      <td>2.1</td>\n",
              "    </tr>\n",
              "    <tr>\n",
              "      <th>36</th>\n",
              "      <td>5.5</td>\n",
              "      <td>3.5</td>\n",
              "      <td>1.3</td>\n",
              "      <td>0.2</td>\n",
              "    </tr>\n",
              "    <tr>\n",
              "      <th>88</th>\n",
              "      <td>5.6</td>\n",
              "      <td>3.0</td>\n",
              "      <td>4.1</td>\n",
              "      <td>1.3</td>\n",
              "    </tr>\n",
              "    <tr>\n",
              "      <th>56</th>\n",
              "      <td>6.3</td>\n",
              "      <td>3.3</td>\n",
              "      <td>4.7</td>\n",
              "      <td>1.6</td>\n",
              "    </tr>\n",
              "  </tbody>\n",
              "</table>\n",
              "<p>120 rows × 4 columns</p>\n",
              "</div>"
            ],
            "text/plain": [
              "     sepal_length  sepal_width  petal_length  petal_width\n",
              "74            6.4          2.9           4.3          1.3\n",
              "86            6.7          3.1           4.7          1.5\n",
              "0             5.1          3.5           1.4          0.2\n",
              "116           6.5          3.0           5.5          1.8\n",
              "121           5.6          2.8           4.9          2.0\n",
              "..            ...          ...           ...          ...\n",
              "135           7.7          3.0           6.1          2.3\n",
              "105           7.6          3.0           6.6          2.1\n",
              "36            5.5          3.5           1.3          0.2\n",
              "88            5.6          3.0           4.1          1.3\n",
              "56            6.3          3.3           4.7          1.6\n",
              "\n",
              "[120 rows x 4 columns]"
            ]
          },
          "metadata": {},
          "execution_count": 38
        }
      ]
    },
    {
      "cell_type": "code",
      "metadata": {
        "id": "Aaq1zDqzP705"
      },
      "source": [
        "from sklearn.preprocessing import StandardScaler\n",
        "scaler = StandardScaler()\n",
        "scaler.fit(X_train)\n",
        "\n",
        "X_train = scaler.transform(X_train)\n",
        "X_test = scaler.transform(X_test)"
      ],
      "execution_count": 39,
      "outputs": []
    },
    {
      "cell_type": "markdown",
      "metadata": {
        "id": "3XqfKiI3QoUI"
      },
      "source": [
        "Model "
      ]
    },
    {
      "cell_type": "code",
      "metadata": {
        "id": "lUY2b0ygQY4E"
      },
      "source": [
        "model = keras.Sequential([\n",
        "    layers.Dense(64, activation='relu', input_shape=[X_train.shape[1]]),\n",
        "    layers.Dropout(0.3, seed=2),\n",
        "    layers.Dense(64, activation='swish'),\n",
        "    layers.Dense(64, activation='relu'),\n",
        "    layers.Dense(64, activation='swish'),\n",
        "    layers.Dense(64, activation='relu'),\n",
        "    layers.Dense(64, activation='swish'),\n",
        "    layers.Dense(1)\n",
        "])"
      ],
      "execution_count": 40,
      "outputs": []
    },
    {
      "cell_type": "code",
      "metadata": {
        "colab": {
          "base_uri": "https://localhost:8080/"
        },
        "id": "4cSYb1_IQZQ5",
        "outputId": "2235e9ef-6e09-46dc-c533-805a190172a1"
      },
      "source": [
        "model"
      ],
      "execution_count": 41,
      "outputs": [
        {
          "output_type": "execute_result",
          "data": {
            "text/plain": [
              "<keras.engine.sequential.Sequential at 0x7f25e779c150>"
            ]
          },
          "metadata": {},
          "execution_count": 41
        }
      ]
    },
    {
      "cell_type": "markdown",
      "metadata": {
        "id": "mgcZdqPhRGr3"
      },
      "source": [
        "Optimizer and Activation function "
      ]
    },
    {
      "cell_type": "code",
      "metadata": {
        "id": "he4G7mK5Q5XD"
      },
      "source": [
        "optimizer = tf.keras.optimizers.RMSprop(learning_rate=0.001)\n",
        "\n",
        "model.compile(loss=tf.keras.losses.MeanSquaredError(),\n",
        "              optimizer=optimizer,\n",
        "              metrics=['mae'])"
      ],
      "execution_count": 42,
      "outputs": []
    },
    {
      "cell_type": "markdown",
      "metadata": {
        "id": "gGAb7aD6RSR_"
      },
      "source": [
        "**Training the Model**"
      ]
    },
    {
      "cell_type": "code",
      "metadata": {
        "colab": {
          "base_uri": "https://localhost:8080/"
        },
        "id": "-WH-T2b-RFmS",
        "outputId": "5afe4874-6dd3-423e-9fd4-5f4dc34b1fa7"
      },
      "source": [
        "history = model.fit(\n",
        "    X_train, y_train,\n",
        "    epochs=70, validation_split=0.2\n",
        ")"
      ],
      "execution_count": 43,
      "outputs": [
        {
          "output_type": "stream",
          "name": "stdout",
          "text": [
            "Epoch 1/70\n",
            "3/3 [==============================] - 2s 101ms/step - loss: 1.5984 - mae: 1.0515 - val_loss: 0.9375 - val_mae: 0.7742\n",
            "Epoch 2/70\n",
            "3/3 [==============================] - 0s 13ms/step - loss: 0.9873 - mae: 0.8494 - val_loss: 0.3667 - val_mae: 0.4996\n",
            "Epoch 3/70\n",
            "3/3 [==============================] - 0s 14ms/step - loss: 0.2827 - mae: 0.4271 - val_loss: 0.1218 - val_mae: 0.2481\n",
            "Epoch 4/70\n",
            "3/3 [==============================] - 0s 13ms/step - loss: 0.1829 - mae: 0.3158 - val_loss: 0.0905 - val_mae: 0.2259\n",
            "Epoch 5/70\n",
            "3/3 [==============================] - 0s 14ms/step - loss: 0.0845 - mae: 0.2163 - val_loss: 0.0864 - val_mae: 0.2323\n",
            "Epoch 6/70\n",
            "3/3 [==============================] - 0s 15ms/step - loss: 0.0941 - mae: 0.2159 - val_loss: 0.0705 - val_mae: 0.1909\n",
            "Epoch 7/70\n",
            "3/3 [==============================] - 0s 12ms/step - loss: 0.0718 - mae: 0.1880 - val_loss: 0.0703 - val_mae: 0.1992\n",
            "Epoch 8/70\n",
            "3/3 [==============================] - 0s 14ms/step - loss: 0.0990 - mae: 0.2294 - val_loss: 0.0579 - val_mae: 0.1699\n",
            "Epoch 9/70\n",
            "3/3 [==============================] - 0s 14ms/step - loss: 0.0704 - mae: 0.1801 - val_loss: 0.0560 - val_mae: 0.1580\n",
            "Epoch 10/70\n",
            "3/3 [==============================] - 0s 12ms/step - loss: 0.0593 - mae: 0.1805 - val_loss: 0.0520 - val_mae: 0.1691\n",
            "Epoch 11/70\n",
            "3/3 [==============================] - 0s 14ms/step - loss: 0.1103 - mae: 0.2324 - val_loss: 0.0483 - val_mae: 0.1619\n",
            "Epoch 12/70\n",
            "3/3 [==============================] - 0s 13ms/step - loss: 0.0755 - mae: 0.1963 - val_loss: 0.0588 - val_mae: 0.1700\n",
            "Epoch 13/70\n",
            "3/3 [==============================] - 0s 13ms/step - loss: 0.0584 - mae: 0.1721 - val_loss: 0.0481 - val_mae: 0.1721\n",
            "Epoch 14/70\n",
            "3/3 [==============================] - 0s 14ms/step - loss: 0.0642 - mae: 0.1794 - val_loss: 0.0495 - val_mae: 0.1716\n",
            "Epoch 15/70\n",
            "3/3 [==============================] - 0s 13ms/step - loss: 0.0659 - mae: 0.1785 - val_loss: 0.0491 - val_mae: 0.1457\n",
            "Epoch 16/70\n",
            "3/3 [==============================] - 0s 14ms/step - loss: 0.0565 - mae: 0.1668 - val_loss: 0.0492 - val_mae: 0.1548\n",
            "Epoch 17/70\n",
            "3/3 [==============================] - 0s 13ms/step - loss: 0.0489 - mae: 0.1589 - val_loss: 0.0501 - val_mae: 0.1575\n",
            "Epoch 18/70\n",
            "3/3 [==============================] - 0s 14ms/step - loss: 0.0499 - mae: 0.1594 - val_loss: 0.0876 - val_mae: 0.1978\n",
            "Epoch 19/70\n",
            "3/3 [==============================] - 0s 13ms/step - loss: 0.0860 - mae: 0.2064 - val_loss: 0.0468 - val_mae: 0.1452\n",
            "Epoch 20/70\n",
            "3/3 [==============================] - 0s 14ms/step - loss: 0.0523 - mae: 0.1646 - val_loss: 0.0621 - val_mae: 0.1725\n",
            "Epoch 21/70\n",
            "3/3 [==============================] - 0s 13ms/step - loss: 0.0387 - mae: 0.1406 - val_loss: 0.0502 - val_mae: 0.1415\n",
            "Epoch 22/70\n",
            "3/3 [==============================] - 0s 14ms/step - loss: 0.0622 - mae: 0.1815 - val_loss: 0.0720 - val_mae: 0.1810\n",
            "Epoch 23/70\n",
            "3/3 [==============================] - 0s 21ms/step - loss: 0.0562 - mae: 0.1621 - val_loss: 0.0534 - val_mae: 0.1497\n",
            "Epoch 24/70\n",
            "3/3 [==============================] - 0s 13ms/step - loss: 0.0501 - mae: 0.1588 - val_loss: 0.0568 - val_mae: 0.1560\n",
            "Epoch 25/70\n",
            "3/3 [==============================] - 0s 12ms/step - loss: 0.0588 - mae: 0.1787 - val_loss: 0.0531 - val_mae: 0.1504\n",
            "Epoch 26/70\n",
            "3/3 [==============================] - 0s 13ms/step - loss: 0.0470 - mae: 0.1565 - val_loss: 0.0566 - val_mae: 0.1501\n",
            "Epoch 27/70\n",
            "3/3 [==============================] - 0s 14ms/step - loss: 0.0474 - mae: 0.1499 - val_loss: 0.0567 - val_mae: 0.1624\n",
            "Epoch 28/70\n",
            "3/3 [==============================] - 0s 12ms/step - loss: 0.0481 - mae: 0.1540 - val_loss: 0.0546 - val_mae: 0.1508\n",
            "Epoch 29/70\n",
            "3/3 [==============================] - 0s 13ms/step - loss: 0.0387 - mae: 0.1362 - val_loss: 0.0529 - val_mae: 0.1442\n",
            "Epoch 30/70\n",
            "3/3 [==============================] - 0s 14ms/step - loss: 0.0800 - mae: 0.1986 - val_loss: 0.0606 - val_mae: 0.1762\n",
            "Epoch 31/70\n",
            "3/3 [==============================] - 0s 16ms/step - loss: 0.0441 - mae: 0.1480 - val_loss: 0.0561 - val_mae: 0.1588\n",
            "Epoch 32/70\n",
            "3/3 [==============================] - 0s 14ms/step - loss: 0.0382 - mae: 0.1357 - val_loss: 0.0634 - val_mae: 0.1632\n",
            "Epoch 33/70\n",
            "3/3 [==============================] - 0s 16ms/step - loss: 0.0413 - mae: 0.1441 - val_loss: 0.0602 - val_mae: 0.1584\n",
            "Epoch 34/70\n",
            "3/3 [==============================] - 0s 14ms/step - loss: 0.0499 - mae: 0.1452 - val_loss: 0.0617 - val_mae: 0.1585\n",
            "Epoch 35/70\n",
            "3/3 [==============================] - 0s 16ms/step - loss: 0.0446 - mae: 0.1423 - val_loss: 0.0612 - val_mae: 0.1649\n",
            "Epoch 36/70\n",
            "3/3 [==============================] - 0s 14ms/step - loss: 0.0525 - mae: 0.1489 - val_loss: 0.0746 - val_mae: 0.1790\n",
            "Epoch 37/70\n",
            "3/3 [==============================] - 0s 14ms/step - loss: 0.0483 - mae: 0.1541 - val_loss: 0.0607 - val_mae: 0.1570\n",
            "Epoch 38/70\n",
            "3/3 [==============================] - 0s 14ms/step - loss: 0.0443 - mae: 0.1525 - val_loss: 0.0619 - val_mae: 0.1711\n",
            "Epoch 39/70\n",
            "3/3 [==============================] - 0s 14ms/step - loss: 0.0323 - mae: 0.1207 - val_loss: 0.0596 - val_mae: 0.1500\n",
            "Epoch 40/70\n",
            "3/3 [==============================] - 0s 13ms/step - loss: 0.0395 - mae: 0.1320 - val_loss: 0.0606 - val_mae: 0.1542\n",
            "Epoch 41/70\n",
            "3/3 [==============================] - 0s 16ms/step - loss: 0.0320 - mae: 0.1210 - val_loss: 0.0554 - val_mae: 0.1463\n",
            "Epoch 42/70\n",
            "3/3 [==============================] - 0s 13ms/step - loss: 0.0434 - mae: 0.1522 - val_loss: 0.0596 - val_mae: 0.1704\n",
            "Epoch 43/70\n",
            "3/3 [==============================] - 0s 13ms/step - loss: 0.0410 - mae: 0.1427 - val_loss: 0.0631 - val_mae: 0.1700\n",
            "Epoch 44/70\n",
            "3/3 [==============================] - 0s 16ms/step - loss: 0.0305 - mae: 0.1158 - val_loss: 0.0586 - val_mae: 0.1547\n",
            "Epoch 45/70\n",
            "3/3 [==============================] - 0s 14ms/step - loss: 0.0374 - mae: 0.1235 - val_loss: 0.0614 - val_mae: 0.1648\n",
            "Epoch 46/70\n",
            "3/3 [==============================] - 0s 15ms/step - loss: 0.0527 - mae: 0.1669 - val_loss: 0.0595 - val_mae: 0.1547\n",
            "Epoch 47/70\n",
            "3/3 [==============================] - 0s 14ms/step - loss: 0.0295 - mae: 0.1136 - val_loss: 0.0587 - val_mae: 0.1488\n",
            "Epoch 48/70\n",
            "3/3 [==============================] - 0s 13ms/step - loss: 0.0298 - mae: 0.1114 - val_loss: 0.0589 - val_mae: 0.1529\n",
            "Epoch 49/70\n",
            "3/3 [==============================] - 0s 13ms/step - loss: 0.0328 - mae: 0.1302 - val_loss: 0.0654 - val_mae: 0.1713\n",
            "Epoch 50/70\n",
            "3/3 [==============================] - 0s 15ms/step - loss: 0.0276 - mae: 0.1115 - val_loss: 0.0640 - val_mae: 0.1516\n",
            "Epoch 51/70\n",
            "3/3 [==============================] - 0s 15ms/step - loss: 0.0342 - mae: 0.1143 - val_loss: 0.0740 - val_mae: 0.1645\n",
            "Epoch 52/70\n",
            "3/3 [==============================] - 0s 14ms/step - loss: 0.0450 - mae: 0.1499 - val_loss: 0.0829 - val_mae: 0.2075\n",
            "Epoch 53/70\n",
            "3/3 [==============================] - 0s 15ms/step - loss: 0.0370 - mae: 0.1317 - val_loss: 0.0621 - val_mae: 0.1543\n",
            "Epoch 54/70\n",
            "3/3 [==============================] - 0s 16ms/step - loss: 0.0355 - mae: 0.1216 - val_loss: 0.0592 - val_mae: 0.1443\n",
            "Epoch 55/70\n",
            "3/3 [==============================] - 0s 14ms/step - loss: 0.0292 - mae: 0.1072 - val_loss: 0.0819 - val_mae: 0.1977\n",
            "Epoch 56/70\n",
            "3/3 [==============================] - 0s 13ms/step - loss: 0.0568 - mae: 0.1703 - val_loss: 0.0604 - val_mae: 0.1599\n",
            "Epoch 57/70\n",
            "3/3 [==============================] - 0s 14ms/step - loss: 0.0258 - mae: 0.1029 - val_loss: 0.0621 - val_mae: 0.1470\n",
            "Epoch 58/70\n",
            "3/3 [==============================] - 0s 16ms/step - loss: 0.0228 - mae: 0.0925 - val_loss: 0.0662 - val_mae: 0.1549\n",
            "Epoch 59/70\n",
            "3/3 [==============================] - 0s 17ms/step - loss: 0.0342 - mae: 0.1289 - val_loss: 0.0670 - val_mae: 0.1811\n",
            "Epoch 60/70\n",
            "3/3 [==============================] - 0s 17ms/step - loss: 0.0267 - mae: 0.1080 - val_loss: 0.0671 - val_mae: 0.1586\n",
            "Epoch 61/70\n",
            "3/3 [==============================] - 0s 14ms/step - loss: 0.0341 - mae: 0.1134 - val_loss: 0.0650 - val_mae: 0.1449\n",
            "Epoch 62/70\n",
            "3/3 [==============================] - 0s 14ms/step - loss: 0.0418 - mae: 0.1301 - val_loss: 0.0747 - val_mae: 0.1914\n",
            "Epoch 63/70\n",
            "3/3 [==============================] - 0s 14ms/step - loss: 0.0443 - mae: 0.1493 - val_loss: 0.0787 - val_mae: 0.1745\n",
            "Epoch 64/70\n",
            "3/3 [==============================] - 0s 15ms/step - loss: 0.0322 - mae: 0.1221 - val_loss: 0.0635 - val_mae: 0.1524\n",
            "Epoch 65/70\n",
            "3/3 [==============================] - 0s 16ms/step - loss: 0.0342 - mae: 0.1127 - val_loss: 0.0636 - val_mae: 0.1450\n",
            "Epoch 66/70\n",
            "3/3 [==============================] - 0s 14ms/step - loss: 0.0290 - mae: 0.1024 - val_loss: 0.0645 - val_mae: 0.1564\n",
            "Epoch 67/70\n",
            "3/3 [==============================] - 0s 13ms/step - loss: 0.0217 - mae: 0.0977 - val_loss: 0.0669 - val_mae: 0.1660\n",
            "Epoch 68/70\n",
            "3/3 [==============================] - 0s 14ms/step - loss: 0.0280 - mae: 0.1226 - val_loss: 0.0703 - val_mae: 0.1652\n",
            "Epoch 69/70\n",
            "3/3 [==============================] - 0s 14ms/step - loss: 0.0350 - mae: 0.1413 - val_loss: 0.0737 - val_mae: 0.1800\n",
            "Epoch 70/70\n",
            "3/3 [==============================] - 0s 15ms/step - loss: 0.0408 - mae: 0.1424 - val_loss: 0.0719 - val_mae: 0.1540\n"
          ]
        }
      ]
    },
    {
      "cell_type": "code",
      "metadata": {
        "colab": {
          "base_uri": "https://localhost:8080/",
          "height": 585
        },
        "id": "qLQ1NqbDRgtC",
        "outputId": "6e777f06-02d0-4c71-a1ec-9249058fd7f6"
      },
      "source": [
        "model_history = pd.DataFrame(history.history)\n",
        "model_history['epoch'] = history.epoch\n",
        "\n",
        "fig, ax = plt.subplots(figsize=(14,8))\n",
        "num_epochs = model_history.shape[0]\n",
        "ax.plot(np.arange(0, num_epochs), model_history[\"mae\"], \n",
        "        label=\"Training MAE\", lw=3, color='#f4b400')\n",
        "ax.plot(np.arange(0, num_epochs), model_history[\"val_mae\"], \n",
        "        label=\"Validation MAE\", lw=3, color='#0f9d58')\n",
        "ax.legend()\n",
        "plt.tight_layout()\n",
        "plt.show()"
      ],
      "execution_count": 44,
      "outputs": [
        {
          "output_type": "display_data",
          "data": {
            "image/png": "[encoded data removed]",
            "text/plain": [
              "<Figure size 1008x576 with 1 Axes>"
            ]
          },
          "metadata": {
            "needs_background": "light"
          }
        }
      ]
    },
    {
      "cell_type": "markdown",
      "metadata": {
        "id": "aUpxzDFDR8jr"
      },
      "source": [
        "**Making Predictions with the Model**"
      ]
    },
    {
      "cell_type": "code",
      "metadata": {
        "colab": {
          "base_uri": "https://localhost:8080/"
        },
        "id": "oy4OnEnnR1JC",
        "outputId": "115eb3f7-735a-4618-eac0-4e86c24f16a1"
      },
      "source": [
        "test_pred = model.predict(X_test)\n",
        "test_pred\n"
      ],
      "execution_count": 49,
      "outputs": [
        {
          "output_type": "execute_result",
          "data": {
            "text/plain": [
              "array([[1.0172846 ],\n",
              "       [1.7606255 ],\n",
              "       [0.00280002],\n",
              "       [2.136881  ],\n",
              "       [0.00640704],\n",
              "       [0.00766133],\n",
              "       [0.00927092],\n",
              "       [0.00684957],\n",
              "       [1.8237172 ],\n",
              "       [2.10381   ],\n",
              "       [2.1091714 ],\n",
              "       [0.01094428],\n",
              "       [1.0538894 ],\n",
              "       [1.3475527 ],\n",
              "       [0.00226999],\n",
              "       [0.00731057],\n",
              "       [0.00524963],\n",
              "       [1.3340172 ],\n",
              "       [1.9740278 ],\n",
              "       [1.89584   ],\n",
              "       [2.0715897 ],\n",
              "       [2.1099412 ],\n",
              "       [0.00876615],\n",
              "       [1.0532161 ],\n",
              "       [0.00451342],\n",
              "       [0.01082487],\n",
              "       [1.3234758 ],\n",
              "       [2.1613219 ],\n",
              "       [0.00666309],\n",
              "       [0.0098895 ]], dtype=float32)"
            ]
          },
          "metadata": {},
          "execution_count": 49
        }
      ]
    },
    {
      "cell_type": "code",
      "metadata": {
        "colab": {
          "base_uri": "https://localhost:8080/"
        },
        "id": "T_Q3wQMuR_6h",
        "outputId": "6c1ef077-6737-4226-cc30-f853a12f6fc3"
      },
      "source": [
        "X_test"
      ],
      "execution_count": 50,
      "outputs": [
        {
          "output_type": "execute_result",
          "data": {
            "text/plain": [
              "array([[-0.94176125, -1.25645579, -0.49793582, -0.17827054],\n",
              "       [ 1.02365353, -0.07112014,  0.66796268,  0.63410153],\n",
              "       [-1.43311494,  0.40301412, -1.48894954, -1.39682863],\n",
              "       [ 0.65513826,  0.40301412,  0.84284745,  1.44647359],\n",
              "       [-0.94176125,  1.8254169 , -1.37235969, -1.26143328],\n",
              "       [-0.81892282,  1.11421551, -1.37235969, -1.39682863],\n",
              "       [-0.57324598,  2.06248403, -1.25576984, -1.12603794],\n",
              "       [-1.06459967,  0.64008125, -1.43065461, -1.39682863],\n",
              "       [ 0.40946141, -0.5452544 ,  0.55137283,  0.76949687],\n",
              "       [ 1.88352249, -0.5452544 ,  1.30920685,  0.90489221],\n",
              "       [ 1.63784564,  1.35128264,  1.30920685,  1.71726427],\n",
              "       [-1.06459967,  1.11421551, -1.31406476, -0.85524725],\n",
              "       [ 0.9008151 , -0.07112014,  0.31819313,  0.22791549],\n",
              "       [ 1.26933037,  0.16594699,  0.60966775,  0.36331084],\n",
              "       [-1.80163021, -0.07112014, -1.48894954, -1.39682863],\n",
              "       [-0.94176125,  0.87714838, -1.37235969, -1.39682863],\n",
              "       [-1.31027651,  0.87714838, -1.13917999, -1.39682863],\n",
              "       [ 0.04094614, -0.07112014,  0.20160328,  0.36331084],\n",
              "       [-0.20473071, -1.25645579,  0.66796268,  1.04028756],\n",
              "       [ 0.16378456, -0.07112014,  0.55137283,  0.76949687],\n",
              "       [ 0.77797668, -0.07112014,  0.78455253,  1.04028756],\n",
              "       [ 0.53229983,  0.64008125,  1.25091193,  1.71726427],\n",
              "       [-1.31027651, -0.07112014, -1.43065461, -1.53222397],\n",
              "       [-0.45040755, -1.49352292, -0.08987134, -0.31366588],\n",
              "       [-1.06459967,  1.35128264, -1.43065461, -1.39682863],\n",
              "       [-0.20473071,  3.24781969, -1.37235969, -1.12603794],\n",
              "       [ 0.16378456, -1.96765718,  0.66796268,  0.36331084],\n",
              "       [ 2.25203776, -0.5452544 ,  1.6589764 ,  1.04028756],\n",
              "       [-0.6960844 ,  1.58834977, -1.37235969, -1.39682863],\n",
              "       [-1.18743809,  0.16594699, -1.37235969, -1.39682863]])"
            ]
          },
          "metadata": {},
          "execution_count": 50
        }
      ]
    },
    {
      "cell_type": "markdown",
      "metadata": {
        "id": "mwO5WkwMTV_R"
      },
      "source": [
        "**Evaluating the Model**"
      ]
    },
    {
      "cell_type": "code",
      "metadata": {
        "colab": {
          "base_uri": "https://localhost:8080/"
        },
        "id": "F4ub4EJCTGsy",
        "outputId": "74f89f70-e177-44e7-dd17-b830110f8b5d"
      },
      "source": [
        "loss, mae = model.evaluate(X_test, y_test, verbose=0)\n",
        "print('MAE = {:.2f} \\nLOSS = {:.2f}'.format(mae,loss))\n"
      ],
      "execution_count": 56,
      "outputs": [
        {
          "output_type": "stream",
          "name": "stdout",
          "text": [
            "MAE = 0.11 \n",
            "LOSS = 0.05\n"
          ]
        }
      ]
    },
    {
      "cell_type": "markdown",
      "metadata": {
        "id": "AYkwAdnsU5EK"
      },
      "source": [
        "**Data Visulaization**"
      ]
    },
    {
      "cell_type": "code",
      "metadata": {
        "colab": {
          "base_uri": "https://localhost:8080/",
          "height": 585
        },
        "id": "0LIDUW01TYti",
        "outputId": "5a73ecea-18e8-4ae4-87fc-551ee69a4d9f"
      },
      "source": [
        "test_predictions_ = model.predict(X_test).flatten()\n",
        "test_labels_ = y_test.to_numpy().flatten()\n",
        "fig, ax = plt.subplots(figsize=(14,8))\n",
        "plt.scatter(test_labels_, test_predictions_, alpha=0.6, \n",
        "            color='#ff7043', lw=1, ec='black')\n",
        "lims = [0, max(test_predictions_.max(), test_labels_.max())]\n",
        "plt.plot(lims, lims, lw=1, color='#00acc1')\n",
        "plt.tight_layout()\n",
        "plt.show()"
      ],
      "execution_count": 58,
      "outputs": [
        {
          "output_type": "display_data",
          "data": {
            "image/png": "[encoded data removed]",
            "text/plain": [
              "<Figure size 1008x576 with 1 Axes>"
            ]
          },
          "metadata": {
            "needs_background": "light"
          }
        }
      ]
    },
    {
      "cell_type": "code",
      "metadata": {
        "id": "u3pdDE7xUW-u"
      },
      "source": [
        ""
      ],
      "execution_count": null,
      "outputs": []
    }
  ]
}